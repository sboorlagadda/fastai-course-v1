{
 "cells": [
  {
   "cell_type": "markdown",
   "metadata": {},
   "source": [
    "# Setup fastai v1 course environment in Google Colab"
   ]
  },
  {
   "cell_type": "markdown",
   "metadata": {},
   "source": [
    "Only run this setup if you are using colab."
   ]
  },
  {
   "cell_type": "code",
   "execution_count": null,
   "metadata": {},
   "outputs": [],
   "source": [
    "!sed -n -e '/^tmpfs \\/dev\\/shm tmpfs defaults,size=/!p' -e '$atmpfs \\/dev\\/shm tmpfs defaults,size=1g 0 0' -i /etc/fstab\n",
    "!mount -o remount /dev/shm\n",
    "\n",
    "!mkdir -p /root/.torch/models\n",
    "!mkdir -p /root/.fastai/data\n",
    "!ln -s /root/.torch/models /content\n",
    "!ln -s /root/.fastai/data /content\n",
    "!rm -rf /content/sample_data/"
   ]
  },
  {
   "cell_type": "markdown",
   "metadata": {},
   "source": [
    "Install fastai 0.7.0 for V1 course."
   ]
  },
  {
   "cell_type": "code",
   "execution_count": null,
   "metadata": {},
   "outputs": [],
   "source": [
    "!pip install torchtext=0.2.3\n",
    "!pip install fastai==0.7.0"
   ]
  },
  {
   "cell_type": "markdown",
   "metadata": {},
   "source": [
    "Lesson 1: Download and extract dogsandcats.zip"
   ]
  },
  {
   "cell_type": "code",
   "execution_count": null,
   "metadata": {},
   "outputs": [],
   "source": [
    "!wget http://files.fast.ai/data/dogscats.zip -P data\n",
    "!unzip data/dogscats.zip -d data"
   ]
  }
 ],
 "metadata": {
  "kernelspec": {
   "display_name": "Python 3",
   "language": "python",
   "name": "python3"
  },
  "language_info": {
   "codemirror_mode": {
    "name": "ipython",
    "version": 3
   },
   "file_extension": ".py",
   "mimetype": "text/x-python",
   "name": "python",
   "nbconvert_exporter": "python",
   "pygments_lexer": "ipython3",
   "version": "3.7.1"
  }
 },
 "nbformat": 4,
 "nbformat_minor": 2
}
